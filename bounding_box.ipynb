{
  "nbformat": 4,
  "nbformat_minor": 0,
  "metadata": {
    "colab": {
      "provenance": []
    },
    "kernelspec": {
      "name": "python3",
      "display_name": "Python 3"
    },
    "language_info": {
      "name": "python"
    }
  },
  "cells": [
    {
      "cell_type": "markdown",
      "source": [
        "# Obtain Bounding Boxes for People and Objects"
      ],
      "metadata": {
        "id": "dX44TKBWO0ZH"
      }
    },
    {
      "cell_type": "code",
      "source": [
        "%pip install ultralytics\n",
        "import ultralytics\n",
        "from ultralytics import YOLO\n",
        "\n",
        "import numpy as np"
      ],
      "metadata": {
        "id": "y1ZvJ-mSQwKs"
      },
      "execution_count": 13,
      "outputs": []
    },
    {
      "cell_type": "markdown",
      "source": [
        "## Change directory to Google Drive"
      ],
      "metadata": {
        "id": "nDSVbF_9625B"
      }
    },
    {
      "cell_type": "code",
      "source": [
        "from google.colab import drive\n",
        "\n",
        "# Mount the Google Drive at mount\n",
        "mount='/content/gdrive'\n",
        "drive.mount(mount)\n",
        "\n",
        "# Switch to the directory on the Google Drive that you want to use\n",
        "import os\n",
        "\n",
        "# Change the directory!!\n",
        "drive_root = mount + \"/My Drive/Colab Notebooks/445 Project\"\n",
        "\n",
        "# Change to the directory\n",
        "%cd $drive_root"
      ],
      "metadata": {
        "colab": {
          "base_uri": "https://localhost:8080/"
        },
        "id": "dycufobX5Vad",
        "outputId": "4fc4803e-d7fe-42f7-c199-c8ff28f44b87"
      },
      "execution_count": 2,
      "outputs": [
        {
          "output_type": "stream",
          "name": "stdout",
          "text": [
            "Mounted at /content/gdrive\n",
            "/content/gdrive/My Drive/Colab Notebooks/445 Project\n"
          ]
        }
      ]
    },
    {
      "cell_type": "markdown",
      "source": [
        "## YOLOV8"
      ],
      "metadata": {
        "id": "S78ytpHb8bFM"
      }
    },
    {
      "cell_type": "code",
      "source": [
        "# Set the image of choice\n",
        "img = 'images/bus.jpg'"
      ],
      "metadata": {
        "id": "4P6PCjZuSDWx"
      },
      "execution_count": 19,
      "outputs": []
    },
    {
      "cell_type": "code",
      "source": [
        "# Predict the bounding boxes of objects in the image\n",
        "\n",
        "# Load a model\n",
        "model = YOLO('yolov8n.pt')  # load an official model\n",
        "# Predict an image with the model\n",
        "obj_res = model(img, classes=range(1,80))\n",
        "\n",
        "# If you want to see the image with the bounding boxes uncomment below:\n",
        "# model(img, show=True, save=True, classes=range(1,80))"
      ],
      "metadata": {
        "colab": {
          "base_uri": "https://localhost:8080/"
        },
        "id": "jzqa8Gtp6dRy",
        "outputId": "4109385d-bb2d-4479-d992-5ecbdc394f86"
      },
      "execution_count": 20,
      "outputs": [
        {
          "output_type": "stream",
          "name": "stdout",
          "text": [
            "\n",
            "image 1/1 /content/gdrive/MyDrive/Colab Notebooks/445 Project/images/img2.jpg: 640x448 4 cars, 1 traffic light, 4 handbags, 1 clock, 213.4ms\n",
            "Speed: 7.2ms preprocess, 213.4ms inference, 1.5ms postprocess per image at shape (1, 3, 640, 448)\n"
          ]
        }
      ]
    },
    {
      "cell_type": "markdown",
      "source": [
        "**Note that the classes align with the following:**\n",
        "\n",
        "0: 'person', 1: 'bicycle', 2: 'car', 3: 'motorcycle', 4: 'airplane', 5: 'bus', 6: 'train', 7: 'truck', 8: 'boat', 9: 'traffic light', 10: 'fire hydrant', 11: 'stop sign', 12: 'parking meter', 13: 'bench', 14: 'bird', 15: 'cat', 16: 'dog', 17: 'horse', 18: 'sheep', 19: 'cow', 20: 'elephant', 21: 'bear', 22: 'zebra', 23: 'giraffe', 24: 'backpack', 25: 'umbrella', 26: 'handbag', 27: 'tie', 28: 'suitcase', 29: 'frisbee', 30: 'skis', 31: 'snowboard', 32: 'sports ball', 33: 'kite', 34: 'baseball bat', 35: 'baseball glove', 36: 'skateboard', 37: 'surfboard', 38: 'tennis racket', 39: 'bottle', 40: 'wine glass', 41: 'cup', 42: 'fork', 43: 'knife', 44: 'spoon', 45: 'bowl', 46: 'banana', 47: 'apple', 48: 'sandwich', 49: 'orange', 50: 'broccoli', 51: 'carrot', 52: 'hot dog', 53: 'pizza', 54: 'donut', 55: 'cake', 56: 'chair', 57: 'couch', 58: 'potted plant', 59: 'bed', 60: 'dining table', 61: 'toilet', 62: 'tv', 63: 'laptop', 64: 'mouse', 65: 'remote', 66: 'keyboard', 67: 'cell phone', 68: 'microwave', 69: 'oven', 70: 'toaster', 71: 'sink', 72: 'refrigerator', 73: 'book', 74: 'clock', 75: 'vase', 76: 'scissors', 77: 'teddy bear', 78: 'hair drier', 79: 'toothbrush'"
      ],
      "metadata": {
        "id": "qy78ovEcTKSV"
      }
    },
    {
      "cell_type": "code",
      "source": [
        "# Predict the bounding boxes of people in the image\n",
        "\n",
        "model = YOLO('yolov8n.pt')\n",
        "ppl_res = model(img, classes=0)"
      ],
      "metadata": {
        "colab": {
          "base_uri": "https://localhost:8080/"
        },
        "id": "PRMk5rMCLSiZ",
        "outputId": "f0b2ccfd-9aa1-4f11-bc4f-5da5842d9bea"
      },
      "execution_count": 21,
      "outputs": [
        {
          "output_type": "stream",
          "name": "stdout",
          "text": [
            "\n",
            "image 1/1 /content/gdrive/MyDrive/Colab Notebooks/445 Project/images/img2.jpg: 640x448 13 persons, 204.7ms\n",
            "Speed: 5.0ms preprocess, 204.7ms inference, 1.6ms postprocess per image at shape (1, 3, 640, 448)\n"
          ]
        }
      ]
    },
    {
      "cell_type": "code",
      "source": [
        "# Returns a 2D numpy array\n",
        "# Each row contains the top-left/bottom-right coordinates for each box of an image\n",
        "def get_boundingbox(results):\n",
        "  for r in results:\n",
        "    return np.array(r.boxes.xyxy.tolist())"
      ],
      "metadata": {
        "id": "odXVWB3LNrju"
      },
      "execution_count": 22,
      "outputs": []
    },
    {
      "cell_type": "code",
      "source": [
        "obj_bb = get_boundingbox(obj_res)\n",
        "ppl_bb = get_boundingbox(ppl_res)"
      ],
      "metadata": {
        "id": "3wZw9s2t9hHY"
      },
      "execution_count": 23,
      "outputs": []
    }
  ]
}